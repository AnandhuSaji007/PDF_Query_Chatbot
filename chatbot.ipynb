{
 "cells": [
  {
   "cell_type": "code",
   "execution_count": 1,
   "id": "285bb404",
   "metadata": {},
   "outputs": [],
   "source": [
    "file_path=(r\"C:\\Users\\WIIS\\Downloads\\SYSTEM SOFTWARE-Ktunotes.in.pdf\")"
   ]
  },
  {
   "cell_type": "code",
   "execution_count": 2,
   "id": "d1c158aa",
   "metadata": {},
   "outputs": [],
   "source": [
    "from langchain_community.document_loaders import PyPDFLoader\n",
    "\n",
    "loader = PyPDFLoader(file_path)\n",
    "pages = []\n",
    "async for page in loader.alazy_load():\n",
    "    pages.append(page)"
   ]
  },
  {
   "cell_type": "code",
   "execution_count": 9,
   "id": "7d0a550b",
   "metadata": {},
   "outputs": [],
   "source": [
    "from langchain_text_splitters import RecursiveCharacterTextSplitter\n",
    "\n",
    "# Extract text from documents\n",
    "raw_texts = [doc.page_content for doc in pages]\n",
    "\n",
    "# Split text\n",
    "text_splitter = RecursiveCharacterTextSplitter(\n",
    "    chunk_size=100,\n",
    "    chunk_overlap=20,\n",
    "    length_function=len,\n",
    "    is_separator_regex=False,\n",
    ")\n",
    "texts = text_splitter.create_documents(raw_texts)"
   ]
  },
  {
   "cell_type": "code",
   "execution_count": null,
   "id": "8e0e995c",
   "metadata": {},
   "outputs": [
    {
     "name": "stderr",
     "output_type": "stream",
     "text": [
      "d:\\PDF_Query_Chatbot\\chatbot\\Lib\\site-packages\\tqdm\\auto.py:21: TqdmWarning: IProgress not found. Please update jupyter and ipywidgets. See https://ipywidgets.readthedocs.io/en/stable/user_install.html\n",
      "  from .autonotebook import tqdm as notebook_tqdm\n",
      "d:\\PDF_Query_Chatbot\\chatbot\\Lib\\site-packages\\huggingface_hub\\file_download.py:143: UserWarning: `huggingface_hub` cache-system uses symlinks by default to efficiently store duplicated files but your machine does not support them in C:\\Users\\WIIS\\.cache\\huggingface\\hub\\models--sentence-transformers--all-mpnet-base-v2. Caching files will still work but in a degraded version that might require more space on your disk. This warning can be disabled by setting the `HF_HUB_DISABLE_SYMLINKS_WARNING` environment variable. For more details, see https://huggingface.co/docs/huggingface_hub/how-to-cache#limitations.\n",
      "To support symlinks on Windows, you either need to activate Developer Mode or to run Python as an administrator. In order to activate developer mode, see this article: https://docs.microsoft.com/en-us/windows/apps/get-started/enable-your-device-for-development\n",
      "  warnings.warn(message)\n",
      "Xet Storage is enabled for this repo, but the 'hf_xet' package is not installed. Falling back to regular HTTP download. For better performance, install the package with: `pip install huggingface_hub[hf_xet]` or `pip install hf_xet`\n"
     ]
    }
   ],
   "source": [
    "#initializing the embedding model\n",
    "from langchain_huggingface import HuggingFaceEmbeddings\n",
    "\n",
    "embeddings_model = HuggingFaceEmbeddings(model_name=\"sentence-transformers/all-mpnet-base-v2\")"
   ]
  },
  {
   "cell_type": "code",
   "execution_count": null,
   "id": "1b2fa2dc",
   "metadata": {},
   "outputs": [],
   "source": [
    "#Embedding and creating the vector store\n",
    "from langchain_chroma import Chroma\n",
    "\n",
    "db = Chroma.from_documents(texts,embeddings_model)"
   ]
  },
  {
   "cell_type": "code",
   "execution_count": 30,
   "id": "a5289053",
   "metadata": {},
   "outputs": [],
   "source": [
    "retriever = db.as_retriever(search_kwargs={\"filter\":{\"id\":\"1\"}})"
   ]
  },
  {
   "cell_type": "code",
   "execution_count": null,
   "id": "6d9b675c",
   "metadata": {},
   "outputs": [],
   "source": [
    "# Initialize the Hugging Face model\n",
    "from langchain_huggingface import ChatHuggingFace\n",
    "from langchain_community.chat_models import ChatHuggingFace as CommunityChatHuggingFace\n",
    "from huggingface_hub import InferenceClient\n",
    "from langchain_huggingface.llms import HuggingFaceEndpoint\n",
    "\n",
    "HF_TOKEN=\"Your HF Token\"\n",
    "\n",
    "\n",
    "# Create endpoint LLM correctly\n",
    "llm_endpoint = HuggingFaceEndpoint(\n",
    "    repo_id=\"HuggingFaceH4/zephyr-7b-beta\",\n",
    "    huggingfacehub_api_token=HF_TOKEN,\n",
    "    task=\"text-generation\",\n",
    "    temperature=0.3,         \n",
    "    max_new_tokens=1024       \n",
    "\n",
    "# Wrap into chat model\n",
    "llm = ChatHuggingFace(llm=llm_endpoint)\n"
   ]
  },
  {
   "cell_type": "code",
   "execution_count": 37,
   "id": "551fa9ea",
   "metadata": {},
   "outputs": [],
   "source": [
    "# Define the prompt template\n",
    "template = \"\"\"\n",
    "<|system|>>\n",
    "You are a helpful AI Assistant that follows instructions extremely well.\n",
    "Use the following context to answer user question.\n",
    "\n",
    "Think step by step before answering the question. You will get a $100 tip if you provide correct answer.\n",
    "\n",
    "CONTEXT: {context}\n",
    "</s>\n",
    "<|user|>\n",
    "{query}\n",
    "</s>\n",
    "<|assistant|>\n",
    "\"\"\""
   ]
  },
  {
   "cell_type": "code",
   "execution_count": 38,
   "id": "e1d175cc",
   "metadata": {},
   "outputs": [],
   "source": [
    "from langchain_core.prompts import ChatPromptTemplate\n",
    "from langchain_core.output_parsers import StrOutputParser\n",
    "from langchain_core.runnables import RunnablePassthrough\n",
    "\n",
    "# Create the prompt and output parser\n",
    "prompt = ChatPromptTemplate.from_template(template)\n",
    "output_parser = StrOutputParser()\n",
    "\n",
    "# Define the chain (pipeline)\n",
    "chain = (\n",
    "    {\"context\": retriever, \"query\": RunnablePassthrough()}\n",
    "    | prompt\n",
    "    | llm\n",
    "    | output_parser\n",
    ")"
   ]
  },
  {
   "cell_type": "code",
   "execution_count": 39,
   "id": "3a18bc54",
   "metadata": {},
   "outputs": [
    {
     "name": "stdout",
     "output_type": "stream",
     "text": [
      "\n",
      "context: A course in [topic] aims to provide learners with the following outcomes:\n",
      "\n",
      "1. Understanding of the basic concepts and principles of [topic]\n",
      "2. Familiarity with key terminologies and definitions related to [topic]\n",
      "3. Proficiency in using [specific software/tools] for [specific tasks/functions]\n",
      "4. Ability to apply [topic] concepts and principles to real-world situations\n",
      "5. Knowledge of best practices and industry standards in [topic]\n",
      "6. Skills to analyze and solve problems related to [topic]\n",
      "7. Development of [specific skills/competencies] related to [topic]\n",
      "8. Familiarity with current trends and developments in [topic]\n",
      "9. Ability to critically evaluate and interpret [topic] related data and information\n",
      "10. Capacity to communicate effectively about [topic] with stakeholders.\n",
      "\n",
      "Course outcomes are the measurable and achievable goals that learners should be able to accomplish by the end of the course. They indicate what learners will be able to do as a result of taking the course. They serve as a guide for learners to determine whether they have met the intended learning objectives and achieved the desired learning outcomes. These outcomes can be specific actions, knowledge, or skills that will enable them to perform tasks or solve problems in the field of [topic]. By the end of the course, learners should be able to demonstrate and apply these results in various situations related to [topic]. These outcomes could also help learners measure their own progress and analyze their growth in terms of meeting the expected results. The provided context above gives a clear indication of what learners should expect to learn and accomplish upon the completion of the course. Therefore, the learners will have an understanding of the fundamental principles and ideas regarding [topic], be comfortable with [specific software/tools] for [specific tasks/functions], be able to implement [topic] concepts and principles in real-life scenarios, apply the best practices in [topic] settings, analyze and evaluate [topic] data, develop skills relevant to [topic], and communicate effectively to other stakeholders regarding [topic]. These outcomes could be assessed through assignments, quizzes, projects, and practical exercises throughout the course. The learners may also prepare for certifications or licensure exams depending on the course's purpose. Additionally, learners could gain insights on recent advances and evolutions in [topic] subjects.\n"
     ]
    }
   ],
   "source": [
    "# Test the chain with a query\n",
    "print(chain.invoke(\"list the course outcomes\"))"
   ]
  }
 ],
 "metadata": {
  "kernelspec": {
   "display_name": "chatbot",
   "language": "python",
   "name": "python3"
  },
  "language_info": {
   "codemirror_mode": {
    "name": "ipython",
    "version": 3
   },
   "file_extension": ".py",
   "mimetype": "text/x-python",
   "name": "python",
   "nbconvert_exporter": "python",
   "pygments_lexer": "ipython3",
   "version": "3.12.11"
  }
 },
 "nbformat": 4,
 "nbformat_minor": 5
}
